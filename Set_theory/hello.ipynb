{
 "cells": [
  {
   "cell_type": "markdown",
   "metadata": {},
   "source": [
    "Сумма:\n",
    "\n",
    "$\\sum_{i=1}^n i = \\frac{n(n+1)}{2}\\\\A = {1, 2, 3, 4, 5}$\n"
   ]
  }
 ],
 "metadata": {
  "language_info": {
   "name": "python"
  }
 },
 "nbformat": 4,
 "nbformat_minor": 2
}
