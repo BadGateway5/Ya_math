{
 "cells": [
  {
   "cell_type": "markdown",
   "metadata": {},
   "source": [
    "Сумма:\n",
    "\n",
    "$$\n",
    "\\sum_{i=1}^n i = \\frac{n(n+1)}{2}\\n\n",
    "A = {1, 2, 3, 4, 5}\n",
    "$$\n"
   ]
  }
 ],
 "metadata": {
  "language_info": {
   "name": "python"
  }
 },
 "nbformat": 4,
 "nbformat_minor": 2
}
